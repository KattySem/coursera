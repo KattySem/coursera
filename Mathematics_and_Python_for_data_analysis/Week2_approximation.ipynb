{
 "cells": [
  {
   "cell_type": "code",
   "execution_count": 1,
   "id": "0a5f1a14",
   "metadata": {},
   "outputs": [],
   "source": [
    "import matplotlib.pyplot as plt\n",
    "import numpy as np\n",
    "import scipy.linalg\n",
    "%matplotlib inline"
   ]
  },
  {
   "cell_type": "code",
   "execution_count": 2,
   "id": "8af2fc52",
   "metadata": {},
   "outputs": [],
   "source": [
    "def f(x):\n",
    "    return np.sin(x / 5) * np.exp(x / 10) + 5 * np.exp(-x / 2)"
   ]
  },
  {
   "cell_type": "code",
   "execution_count": 11,
   "id": "a6c5adca",
   "metadata": {},
   "outputs": [],
   "source": [
    "points = np.array([1, 4, 10, 15]) # approximate at the given points\n",
    "n = points.size"
   ]
  },
  {
   "cell_type": "code",
   "execution_count": 12,
   "id": "a8d8b7c4",
   "metadata": {},
   "outputs": [],
   "source": [
    "A = np.zeros((n, n)) # fill A-matrix, each row is 1 or xi^0, xi^1, xi^2, xi^3 .. xi^n\n",
    "for index in range(0, n):\n",
    "    A[index] = np.power(np.full(n, points[index]), np.arange(0, n, 1))"
   ]
  },
  {
   "cell_type": "code",
   "execution_count": 13,
   "id": "41be01d6",
   "metadata": {},
   "outputs": [],
   "source": [
    "b = f(points) # fill b-matrix, i.e. function value at the given points"
   ]
  },
  {
   "cell_type": "code",
   "execution_count": 14,
   "id": "6c1cdf10",
   "metadata": {},
   "outputs": [],
   "source": [
    "solve = np.linalg.solve(A,b) # solve to get approximation polynomial coefficents"
   ]
  },
  {
   "cell_type": "code",
   "execution_count": 15,
   "id": "e23fd4c6",
   "metadata": {},
   "outputs": [],
   "source": [
    "def polinom(x):  # define the polynome approximation of the function\n",
    "    # Yi = solve * Xi where Xi = x^i\n",
    "    tiles = np.tile(x, (n, 1))\n",
    "    tiles[0] = np.ones(x.size)\n",
    "    for index in range(1, n):\n",
    "        tiles[index] = tiles[index]**index\n",
    "    return solve.dot(tiles)"
   ]
  },
  {
   "cell_type": "code",
   "execution_count": 17,
   "id": "7af7bf9d",
   "metadata": {},
   "outputs": [
    {
     "data": {
      "text/plain": [
       "[<matplotlib.lines.Line2D at 0x1a81a8554f0>]"
      ]
     },
     "execution_count": 17,
     "metadata": {},
     "output_type": "execute_result"
    },
    {
     "data": {
      "image/png": "[encoded data removed]",
      "text/plain": [
       "<Figure size 432x288 with 1 Axes>"
      ]
     },
     "metadata": {
      "needs_background": "light"
     },
     "output_type": "display_data"
    }
   ],
   "source": [
    "x = np.linspace(1,8, 15) # plot the graphs of original function and its approximation\n",
    "plt.plot(x, f(x))\n",
    "plt.plot(x, polinom(x))\n"
   ]
  },
  {
   "cell_type": "code",
   "execution_count": 18,
   "id": "896c26f5",
   "metadata": {},
   "outputs": [
    {
     "name": "stdout",
     "output_type": "stream",
     "text": [
      "[ 4.36264154 -1.29552587  0.19333685 -0.00823565]\n"
     ]
    }
   ],
   "source": [
    "print(solve) # print out the coefficients of polynome approximating our function"
   ]
  }
 ],
 "metadata": {
  "kernelspec": {
   "display_name": "Python 3 (ipykernel)",
   "language": "python",
   "name": "python3"
  },
  "language_info": {
   "codemirror_mode": {
    "name": "ipython",
    "version": 3
   },
   "file_extension": ".py",
   "mimetype": "text/x-python",
   "name": "python",
   "nbconvert_exporter": "python",
   "pygments_lexer": "ipython3",
   "version": "3.8.8"
  }
 },
 "nbformat": 4,
 "nbformat_minor": 5
}
