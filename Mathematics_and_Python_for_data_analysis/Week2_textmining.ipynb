{
 "cells": [
  {
   "cell_type": "code",
   "execution_count": 53,
   "id": "e1cffe46",
   "metadata": {},
   "outputs": [],
   "source": [
    "import re\n",
    "import scipy.spatial\n",
    "import numpy as np"
   ]
  },
  {
   "cell_type": "code",
   "execution_count": 54,
   "id": "8204bce8",
   "metadata": {},
   "outputs": [],
   "source": [
    "file = open(\"sentences.txt\", \"r\") \n",
    "lines = file.readlines()\n"
   ]
  },
  {
   "cell_type": "code",
   "execution_count": 56,
   "id": "8724c459",
   "metadata": {},
   "outputs": [],
   "source": [
    "i = 0\n",
    "for line in lines: \n",
    "    line = line.lower() #шаг 2\n",
    "    line = re.split('[^a-z]', line) #шаг 3\n",
    "    lines[i] = filter(None, line) #шаг 3 \n",
    "    i += 1"
   ]
  },
  {
   "cell_type": "code",
   "execution_count": 58,
   "id": "fb76ea83",
   "metadata": {},
   "outputs": [],
   "source": [
    "indexes = dict() #шаг 4\n",
    "i = 0\n",
    "for line in lines:\n",
    "    for word in line:\n",
    "        if word not in indexes:\n",
    "            indexes[word] = i\n",
    "            i +=1"
   ]
  },
  {
   "cell_type": "code",
   "execution_count": 59,
   "id": "fcd8665d",
   "metadata": {},
   "outputs": [
    {
     "data": {
      "text/plain": [
       "(22, 254)"
      ]
     },
     "execution_count": 59,
     "metadata": {},
     "output_type": "execute_result"
    }
   ],
   "source": [
    "matrix = np.zeros((len(lines), len(indexes))) #шаг 5\n",
    "matrix.shape"
   ]
  },
  {
   "cell_type": "code",
   "execution_count": 65,
   "id": "f91acdde",
   "metadata": {},
   "outputs": [],
   "source": [
    "for lines_i in range(0, len(lines)): \n",
    "    for word in lines[lines_i]: \n",
    "        word_i = indexes[word] \n",
    "        matrix[lines_i][word_i] += 1 "
   ]
  },
  {
   "cell_type": "code",
   "execution_count": 66,
   "id": "3546b9b6",
   "metadata": {},
   "outputs": [
    {
     "name": "stdout",
     "output_type": "stream",
     "text": [
      "(1, 0) (2, 0)\n"
     ]
    },
    {
     "name": "stderr",
     "output_type": "stream",
     "text": [
      "C:\\Users\\kates\\anaconda3\\lib\\site-packages\\scipy\\spatial\\distance.py:699: RuntimeWarning: invalid value encountered in double_scalars\n",
      "  dist = 1.0 - uv / np.sqrt(uu * vv)\n"
     ]
    }
   ],
   "source": [
    "dist = list() # шаг 6 \n",
    "for i in range(0, len(lines)):\n",
    "    d = scipy.spatial.distance.cosine(matrix[0,:],matrix[i,:]) \n",
    "    dist.append((i,d))\n",
    "    \n",
    "sort = sorted(dist,key=lambda tup: tup[1]) \n",
    "print(sort[1],sort[2])"
   ]
  },
  {
   "cell_type": "code",
   "execution_count": null,
   "id": "9bee3a75",
   "metadata": {},
   "outputs": [],
   "source": []
  }
 ],
 "metadata": {
  "kernelspec": {
   "display_name": "Python 3 (ipykernel)",
   "language": "python",
   "name": "python3"
  },
  "language_info": {
   "codemirror_mode": {
    "name": "ipython",
    "version": 3
   },
   "file_extension": ".py",
   "mimetype": "text/x-python",
   "name": "python",
   "nbconvert_exporter": "python",
   "pygments_lexer": "ipython3",
   "version": "3.8.8"
  }
 },
 "nbformat": 4,
 "nbformat_minor": 5
}
